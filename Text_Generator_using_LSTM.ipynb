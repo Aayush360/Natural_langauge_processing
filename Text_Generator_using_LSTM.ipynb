{
  "nbformat": 4,
  "nbformat_minor": 0,
  "metadata": {
    "colab": {
      "name": "Text_Generator_using_LSTM.ipynb",
      "provenance": [],
      "authorship_tag": "ABX9TyPcebLFBCEzf37G6XGnxcvJ",
      "include_colab_link": true
    },
    "kernelspec": {
      "name": "python3",
      "display_name": "Python 3"
    },
    "language_info": {
      "name": "python"
    },
    "accelerator": "GPU"
  },
  "cells": [
    {
      "cell_type": "markdown",
      "metadata": {
        "id": "view-in-github",
        "colab_type": "text"
      },
      "source": [
        "<a href=\"https://colab.research.google.com/github/Aayush360/Natural_langauge_processing/blob/main/Text_Generator_using_LSTM.ipynb\" target=\"_parent\"><img src=\"https://colab.research.google.com/assets/colab-badge.svg\" alt=\"Open In Colab\"/></a>"
      ]
    },
    {
      "cell_type": "code",
      "metadata": {
        "id": "ckUbp7qhcioE"
      },
      "source": [
        "# that can generate text related to describing hotels for the city of Mumbai"
      ],
      "execution_count": 1,
      "outputs": []
    },
    {
      "cell_type": "code",
      "metadata": {
        "id": "My6zUDIlctU3"
      },
      "source": [
        "# notebook imports"
      ],
      "execution_count": 6,
      "outputs": []
    },
    {
      "cell_type": "code",
      "metadata": {
        "id": "u2pAHTJKcvJC"
      },
      "source": [
        "import nltk\n",
        "from nltk.corpus import stopwords\n",
        "import pandas as pd\n",
        "import numpy as np\n",
        "\n",
        "import re\n",
        "\n",
        "from keras.preprocessing.sequence import pad_sequences\n",
        "from keras.utils import np_utils\n",
        "from keras.models import Sequential\n",
        "from keras.layers import Dense,LSTM,Dropout,Embedding"
      ],
      "execution_count": 7,
      "outputs": []
    },
    {
      "cell_type": "code",
      "metadata": {
        "colab": {
          "base_uri": "https://localhost:8080/"
        },
        "id": "hDinKCU1j74F",
        "outputId": "5820137e-7e71-4eed-dedd-189002246bad"
      },
      "source": [
        "nltk.download('stopwords')\n"
      ],
      "execution_count": 8,
      "outputs": [
        {
          "output_type": "stream",
          "text": [
            "[nltk_data] Downloading package stopwords to /root/nltk_data...\n",
            "[nltk_data]   Package stopwords is already up-to-date!\n"
          ],
          "name": "stdout"
        },
        {
          "output_type": "execute_result",
          "data": {
            "text/plain": [
              "True"
            ]
          },
          "metadata": {
            "tags": []
          },
          "execution_count": 8
        }
      ]
    },
    {
      "cell_type": "markdown",
      "metadata": {
        "id": "6JRilQU9jCH-"
      },
      "source": [
        "### Reading the data "
      ]
    },
    {
      "cell_type": "markdown",
      "metadata": {
        "id": "UpeAcTYDeWzd"
      },
      "source": [
        "[Data-Source](https://data.world/promptcloud/hotels-on-makemytrip-com)"
      ]
    },
    {
      "cell_type": "code",
      "metadata": {
        "id": "yyt7IOaHeQpL"
      },
      "source": [
        "data=pd.read_csv('hotel.csv')"
      ],
      "execution_count": 9,
      "outputs": []
    },
    {
      "cell_type": "code",
      "metadata": {
        "colab": {
          "base_uri": "https://localhost:8080/",
          "height": 411
        },
        "id": "Ac7amWxeeTh3",
        "outputId": "b9a3f4da-24c4-44a0-95b3-2420e726f5f5"
      },
      "source": [
        "data.head()"
      ],
      "execution_count": 10,
      "outputs": [
        {
          "output_type": "execute_result",
          "data": {
            "text/html": [
              "<div>\n",
              "<style scoped>\n",
              "    .dataframe tbody tr th:only-of-type {\n",
              "        vertical-align: middle;\n",
              "    }\n",
              "\n",
              "    .dataframe tbody tr th {\n",
              "        vertical-align: top;\n",
              "    }\n",
              "\n",
              "    .dataframe thead th {\n",
              "        text-align: right;\n",
              "    }\n",
              "</style>\n",
              "<table border=\"1\" class=\"dataframe\">\n",
              "  <thead>\n",
              "    <tr style=\"text-align: right;\">\n",
              "      <th></th>\n",
              "      <th>area</th>\n",
              "      <th>city</th>\n",
              "      <th>country</th>\n",
              "      <th>crawl_date</th>\n",
              "      <th>highlight_value</th>\n",
              "      <th>hotel_overview</th>\n",
              "      <th>hotel_star_rating</th>\n",
              "      <th>image_urls</th>\n",
              "      <th>in_your_room</th>\n",
              "      <th>is_value_plus</th>\n",
              "      <th>latitude</th>\n",
              "      <th>longitude</th>\n",
              "      <th>mmt_holidayiq_review_count</th>\n",
              "      <th>mmt_location_rating</th>\n",
              "      <th>mmt_review_count</th>\n",
              "      <th>mmt_review_rating</th>\n",
              "      <th>mmt_review_score</th>\n",
              "      <th>mmt_traveller_type_review_count</th>\n",
              "      <th>mmt_tripadvisor_count</th>\n",
              "      <th>pageurl</th>\n",
              "      <th>property_address</th>\n",
              "      <th>property_id</th>\n",
              "      <th>property_name</th>\n",
              "      <th>property_type</th>\n",
              "      <th>qts</th>\n",
              "      <th>query_time_stamp</th>\n",
              "      <th>room_types</th>\n",
              "      <th>site_review_count</th>\n",
              "      <th>site_review_rating</th>\n",
              "      <th>sitename</th>\n",
              "      <th>state</th>\n",
              "      <th>traveller_rating</th>\n",
              "      <th>uniq_id</th>\n",
              "      <th>location</th>\n",
              "    </tr>\n",
              "  </thead>\n",
              "  <tbody>\n",
              "    <tr>\n",
              "      <th>0</th>\n",
              "      <td>Hardasji Ki Magri</td>\n",
              "      <td>Udaipur</td>\n",
              "      <td>India</td>\n",
              "      <td>2016-06-21</td>\n",
              "      <td>{{facility}}</td>\n",
              "      <td>|Zion Home Stay is located in a city that sets...</td>\n",
              "      <td>1 star</td>\n",
              "      <td>NaN</td>\n",
              "      <td>{{value}}</td>\n",
              "      <td>False</td>\n",
              "      <td>24.581788</td>\n",
              "      <td>73.667805</td>\n",
              "      <td>NaN</td>\n",
              "      <td>..</td>\n",
              "      <td>NaN</td>\n",
              "      <td>{{ratingCriteria.name}}{{ratingCriteria.value}}</td>\n",
              "      <td>4.5</td>\n",
              "      <td>Families:{{ratingSummaryInfo.miscMap['family']...</td>\n",
              "      <td>6.0</td>\n",
              "      <td>http://hotelz.makemytrip.com/makemytrip/site/h...</td>\n",
              "      <td>Zion, F-17, Haridas Ji Ki Magri, Near Bal Vina...</td>\n",
              "      <td>201302071713316867</td>\n",
              "      <td>Zion Home Stay</td>\n",
              "      <td>Hotel</td>\n",
              "      <td>NaN</td>\n",
              "      <td>2016-06-21 04:06:50 +0000</td>\n",
              "      <td>NaN</td>\n",
              "      <td>/5</td>\n",
              "      <td>4.5</td>\n",
              "      <td>makemytrip</td>\n",
              "      <td>NaN</td>\n",
              "      <td>NaN</td>\n",
              "      <td>78ddf880bd7937d384ff278cc5b39d6e</td>\n",
              "      <td>POINT(73.667805 24.581788)</td>\n",
              "    </tr>\n",
              "    <tr>\n",
              "      <th>1</th>\n",
              "      <td>Near Nai Gaon</td>\n",
              "      <td>Udaipur</td>\n",
              "      <td>India</td>\n",
              "      <td>2016-06-21</td>\n",
              "      <td>{{facility}}</td>\n",
              "      <td>| Araliayas Resorts is a 3 star hotel located ...</td>\n",
              "      <td>3 star</td>\n",
              "      <td>NaN</td>\n",
              "      <td>{{value}}</td>\n",
              "      <td>False</td>\n",
              "      <td>24.544342</td>\n",
              "      <td>73.644242</td>\n",
              "      <td>NaN</td>\n",
              "      <td>..</td>\n",
              "      <td>NaN</td>\n",
              "      <td>{{ratingCriteria.name}}{{ratingCriteria.value}}</td>\n",
              "      <td>4.5</td>\n",
              "      <td>Families:{{ratingSummaryInfo.miscMap['family']...</td>\n",
              "      <td>34.0</td>\n",
              "      <td>http://hotelz.makemytrip.com/makemytrip/site/h...</td>\n",
              "      <td>Udaipur-Jhadol Road , Near Nai Gaon</td>\n",
              "      <td>201312041703404727</td>\n",
              "      <td>Araliayas Resorts</td>\n",
              "      <td>Hotel</td>\n",
              "      <td>NaN</td>\n",
              "      <td>2016-06-21 04:06:50 +0000</td>\n",
              "      <td>NaN</td>\n",
              "      <td>/5</td>\n",
              "      <td>4.5</td>\n",
              "      <td>makemytrip</td>\n",
              "      <td>NaN</td>\n",
              "      <td>NaN</td>\n",
              "      <td>9f9f9cbb2f7df8089b63d5cdeb257944</td>\n",
              "      <td>POINT(73.644242 24.544342)</td>\n",
              "    </tr>\n",
              "    <tr>\n",
              "      <th>2</th>\n",
              "      <td>Near Bagore Ki Haveli</td>\n",
              "      <td>Udaipur</td>\n",
              "      <td>India</td>\n",
              "      <td>2016-06-21</td>\n",
              "      <td>{{facility}}</td>\n",
              "      <td>|A 2 star property is located at 24 km from Ma...</td>\n",
              "      <td>2 star</td>\n",
              "      <td>NaN</td>\n",
              "      <td>{{value}}</td>\n",
              "      <td>False</td>\n",
              "      <td>24.579942</td>\n",
              "      <td>73.681953</td>\n",
              "      <td>NaN</td>\n",
              "      <td>..</td>\n",
              "      <td>NaN</td>\n",
              "      <td>{{ratingCriteria.name}}{{ratingCriteria.value}}</td>\n",
              "      <td>NaN</td>\n",
              "      <td>Families:{{ratingSummaryInfo.miscMap['family']...</td>\n",
              "      <td>16.0</td>\n",
              "      <td>http://hotelz.makemytrip.com/makemytrip/site/h...</td>\n",
              "      <td>23/208 Gangaur Ghat Near Bagore Ki Haveli , Ne...</td>\n",
              "      <td>201407171324437682</td>\n",
              "      <td>Shri Udai Palace</td>\n",
              "      <td>Hotel</td>\n",
              "      <td>NaN</td>\n",
              "      <td>2016-06-21 04:06:50 +0000</td>\n",
              "      <td>NaN</td>\n",
              "      <td>/5</td>\n",
              "      <td>NaN</td>\n",
              "      <td>makemytrip</td>\n",
              "      <td>NaN</td>\n",
              "      <td>NaN</td>\n",
              "      <td>b314bb7fa8bfb1ed306f517be21d729e</td>\n",
              "      <td>POINT(73.681953 24.579942)</td>\n",
              "    </tr>\n",
              "    <tr>\n",
              "      <th>3</th>\n",
              "      <td>Dabok</td>\n",
              "      <td>Udaipur</td>\n",
              "      <td>India</td>\n",
              "      <td>2016-06-21</td>\n",
              "      <td>Airport Transfer|Car rental|Conference Hall|Cu...</td>\n",
              "      <td>|SNP House Airport Hotel And Restaurant is loa...</td>\n",
              "      <td>1 star</td>\n",
              "      <td>//imghtlak.mmtcdn.com/images/hotels/2014071815...</td>\n",
              "      <td>NaN</td>\n",
              "      <td>False</td>\n",
              "      <td>24.622607</td>\n",
              "      <td>73.855194</td>\n",
              "      <td>0.0</td>\n",
              "      <td>NaN</td>\n",
              "      <td>NaN</td>\n",
              "      <td>NaN</td>\n",
              "      <td>NaN</td>\n",
              "      <td>Families:|Couples:|Business:|Solo:|Friends:</td>\n",
              "      <td>3.0</td>\n",
              "      <td>http://hotelz.makemytrip.com/makemytrip/site/h...</td>\n",
              "      <td>Opp GITS, NH-76, Bamaniya Khet, Dabok , Dabok</td>\n",
              "      <td>201407181538181173</td>\n",
              "      <td>SNP House Airport Hotel And Restaurant</td>\n",
              "      <td>Hotel</td>\n",
              "      <td>NaN</td>\n",
              "      <td>2016-06-21 04:06:50 +0000</td>\n",
              "      <td>`standard</td>\n",
              "      <td>/5</td>\n",
              "      <td>NaN</td>\n",
              "      <td>makemytrip</td>\n",
              "      <td>NaN</td>\n",
              "      <td>NaN</td>\n",
              "      <td>e6f5bb3c2d76a78d978b9ceb0e31ec56</td>\n",
              "      <td>POINT(73.855194 24.622607)</td>\n",
              "    </tr>\n",
              "    <tr>\n",
              "      <th>4</th>\n",
              "      <td>East Udaipur</td>\n",
              "      <td>Udaipur</td>\n",
              "      <td>India</td>\n",
              "      <td>2016-06-21</td>\n",
              "      <td>{{facility}}</td>\n",
              "      <td>| Hotel Pichola Haveli is situated in the beau...</td>\n",
              "      <td>2 star</td>\n",
              "      <td>NaN</td>\n",
              "      <td>{{value}}</td>\n",
              "      <td>False</td>\n",
              "      <td>24.580100</td>\n",
              "      <td>73.682200</td>\n",
              "      <td>NaN</td>\n",
              "      <td>..</td>\n",
              "      <td>NaN</td>\n",
              "      <td>{{ratingCriteria.name}}{{ratingCriteria.value}}</td>\n",
              "      <td>3.7</td>\n",
              "      <td>Families:{{ratingSummaryInfo.miscMap['family']...</td>\n",
              "      <td>139.0</td>\n",
              "      <td>http://hotelz.makemytrip.com/makemytrip/site/h...</td>\n",
              "      <td>64 Ghangour Ghat, Opp Bagore Ki Haveli , East ...</td>\n",
              "      <td>201409021258573714</td>\n",
              "      <td>Hotel Pichola Haveli (LAKE SIDE)</td>\n",
              "      <td>Hotel</td>\n",
              "      <td>NaN</td>\n",
              "      <td>2016-06-21 04:06:50 +0000</td>\n",
              "      <td>NaN</td>\n",
              "      <td>/5</td>\n",
              "      <td>3.7</td>\n",
              "      <td>makemytrip</td>\n",
              "      <td>NaN</td>\n",
              "      <td>NaN</td>\n",
              "      <td>63072c301427b6ca450d31eea127bcf0</td>\n",
              "      <td>POINT(73.6822 24.5801)</td>\n",
              "    </tr>\n",
              "  </tbody>\n",
              "</table>\n",
              "</div>"
            ],
            "text/plain": [
              "                    area  ...                    location\n",
              "0      Hardasji Ki Magri  ...  POINT(73.667805 24.581788)\n",
              "1          Near Nai Gaon  ...  POINT(73.644242 24.544342)\n",
              "2  Near Bagore Ki Haveli  ...  POINT(73.681953 24.579942)\n",
              "3                  Dabok  ...  POINT(73.855194 24.622607)\n",
              "4           East Udaipur  ...      POINT(73.6822 24.5801)\n",
              "\n",
              "[5 rows x 34 columns]"
            ]
          },
          "metadata": {
            "tags": []
          },
          "execution_count": 10
        }
      ]
    },
    {
      "cell_type": "code",
      "metadata": {
        "colab": {
          "base_uri": "https://localhost:8080/"
        },
        "id": "sQBqwshvhgNH",
        "outputId": "0da2eba3-a75e-4d71-bd40-088c4d8568cb"
      },
      "source": [
        "data.city.value_counts()"
      ],
      "execution_count": 11,
      "outputs": [
        {
          "output_type": "execute_result",
          "data": {
            "text/plain": [
              "NewDelhiAndNCR    1163\n",
              "Goa               1122\n",
              "Mumbai             543\n",
              "Jaipur             534\n",
              "Bangalore          512\n",
              "                  ... \n",
              "Forbesganj           1\n",
              "ChambaHimachal       1\n",
              "Ramtek               1\n",
              "Vengurla             1\n",
              "Etawah               1\n",
              "Name: city, Length: 770, dtype: int64"
            ]
          },
          "metadata": {
            "tags": []
          },
          "execution_count": 11
        }
      ]
    },
    {
      "cell_type": "markdown",
      "metadata": {
        "id": "SQFOkJARhpXy"
      },
      "source": [
        "A substantial amount of hotel data form the city of Mumabai is available (543). Lets get description for Mumbai Hotels"
      ]
    },
    {
      "cell_type": "code",
      "metadata": {
        "id": "__EzFAoPhlRg"
      },
      "source": [
        "array=['Mumbai']\n",
        "data_mum = data.loc[data['city'].isin(array)]"
      ],
      "execution_count": 12,
      "outputs": []
    },
    {
      "cell_type": "code",
      "metadata": {
        "colab": {
          "base_uri": "https://localhost:8080/",
          "height": 496
        },
        "id": "u_vNl7VAiDF-",
        "outputId": "d197cd42-70a1-4607-92e9-9e2e7731ea96"
      },
      "source": [
        "data_mum.head()"
      ],
      "execution_count": 13,
      "outputs": [
        {
          "output_type": "execute_result",
          "data": {
            "text/html": [
              "<div>\n",
              "<style scoped>\n",
              "    .dataframe tbody tr th:only-of-type {\n",
              "        vertical-align: middle;\n",
              "    }\n",
              "\n",
              "    .dataframe tbody tr th {\n",
              "        vertical-align: top;\n",
              "    }\n",
              "\n",
              "    .dataframe thead th {\n",
              "        text-align: right;\n",
              "    }\n",
              "</style>\n",
              "<table border=\"1\" class=\"dataframe\">\n",
              "  <thead>\n",
              "    <tr style=\"text-align: right;\">\n",
              "      <th></th>\n",
              "      <th>area</th>\n",
              "      <th>city</th>\n",
              "      <th>country</th>\n",
              "      <th>crawl_date</th>\n",
              "      <th>highlight_value</th>\n",
              "      <th>hotel_overview</th>\n",
              "      <th>hotel_star_rating</th>\n",
              "      <th>image_urls</th>\n",
              "      <th>in_your_room</th>\n",
              "      <th>is_value_plus</th>\n",
              "      <th>latitude</th>\n",
              "      <th>longitude</th>\n",
              "      <th>mmt_holidayiq_review_count</th>\n",
              "      <th>mmt_location_rating</th>\n",
              "      <th>mmt_review_count</th>\n",
              "      <th>mmt_review_rating</th>\n",
              "      <th>mmt_review_score</th>\n",
              "      <th>mmt_traveller_type_review_count</th>\n",
              "      <th>mmt_tripadvisor_count</th>\n",
              "      <th>pageurl</th>\n",
              "      <th>property_address</th>\n",
              "      <th>property_id</th>\n",
              "      <th>property_name</th>\n",
              "      <th>property_type</th>\n",
              "      <th>qts</th>\n",
              "      <th>query_time_stamp</th>\n",
              "      <th>room_types</th>\n",
              "      <th>site_review_count</th>\n",
              "      <th>site_review_rating</th>\n",
              "      <th>sitename</th>\n",
              "      <th>state</th>\n",
              "      <th>traveller_rating</th>\n",
              "      <th>uniq_id</th>\n",
              "      <th>location</th>\n",
              "    </tr>\n",
              "  </thead>\n",
              "  <tbody>\n",
              "    <tr>\n",
              "      <th>294</th>\n",
              "      <td>Charai</td>\n",
              "      <td>Mumbai</td>\n",
              "      <td>India</td>\n",
              "      <td>2016-08-28</td>\n",
              "      <td>Doctor on Call|Front desk|Laundry Service|Park...</td>\n",
              "      <td>Nestled in Mumbai, a city with strong historic...</td>\n",
              "      <td>3</td>\n",
              "      <td>NaN</td>\n",
              "      <td>Bathroom Toiletries|Attached Bathroom|Hot &amp; Co...</td>\n",
              "      <td>False</td>\n",
              "      <td>19.198414</td>\n",
              "      <td>72.974173</td>\n",
              "      <td>NaN</td>\n",
              "      <td>NaN</td>\n",
              "      <td>0.0</td>\n",
              "      <td>NaN</td>\n",
              "      <td>0.0</td>\n",
              "      <td>Family:0|Couple:0|Solo:0|Friends:0|Business:0</td>\n",
              "      <td>2.0</td>\n",
              "      <td>NaN</td>\n",
              "      <td>Edulji Road,Opp MTNL Exchange, Charai,Thane</td>\n",
              "      <td>201508201737182754</td>\n",
              "      <td>Hotel Divya International</td>\n",
              "      <td>Hotel</td>\n",
              "      <td>2016-08-28 16:13:39 +0000</td>\n",
              "      <td>2016-08-28 16:13:39 +0000</td>\n",
              "      <td>Ac Superior Room|A/c Standard Rooms Double Occ...</td>\n",
              "      <td>NaN</td>\n",
              "      <td>NaN</td>\n",
              "      <td>makemytrip</td>\n",
              "      <td>Maharashtra</td>\n",
              "      <td>NaN</td>\n",
              "      <td>d78fae90ef2e1b5c2dfd547c61763a25</td>\n",
              "      <td>POINT(72.974173 19.198414)</td>\n",
              "    </tr>\n",
              "    <tr>\n",
              "      <th>309</th>\n",
              "      <td>Andheri (East)</td>\n",
              "      <td>Mumbai</td>\n",
              "      <td>India</td>\n",
              "      <td>2016-08-28</td>\n",
              "      <td>Air Conditioned|Airport Transfer|Conference Ha...</td>\n",
              "      <td>3 km from Chhatrapati Shivaji International Ai...</td>\n",
              "      <td>2</td>\n",
              "      <td>NaN</td>\n",
              "      <td>Bathroom Toiletries|Daily Newspaper|Kitchenett...</td>\n",
              "      <td>False</td>\n",
              "      <td>19.117263</td>\n",
              "      <td>72.882023</td>\n",
              "      <td>NaN</td>\n",
              "      <td>Location:3.2</td>\n",
              "      <td>85.0</td>\n",
              "      <td>Excellent:8|Very Good:14|Average:23|Poor:22|Te...</td>\n",
              "      <td>3.0</td>\n",
              "      <td>Family:20|Couple:13|Solo:21|Friends:4|Business:6</td>\n",
              "      <td>68.0</td>\n",
              "      <td>NaN</td>\n",
              "      <td>Opp.N.G.Complex, Ashok Nagar,Military Road, Ma...</td>\n",
              "      <td>200709211017493525</td>\n",
              "      <td>Hotel Ace Residency</td>\n",
              "      <td>Hotel</td>\n",
              "      <td>2016-08-28 16:13:39 +0000</td>\n",
              "      <td>2016-08-28 16:13:39 +0000</td>\n",
              "      <td>Executive|Deluxe</td>\n",
              "      <td>NaN</td>\n",
              "      <td>NaN</td>\n",
              "      <td>makemytrip</td>\n",
              "      <td>Maharasta</td>\n",
              "      <td>Location:3.2/5 | Hospitality:3.1/5 | Facilitie...</td>\n",
              "      <td>030865f741982beb373efddecdc6d6c3</td>\n",
              "      <td>POINT(72.882023 19.117263)</td>\n",
              "    </tr>\n",
              "    <tr>\n",
              "      <th>321</th>\n",
              "      <td>Khar</td>\n",
              "      <td>Mumbai</td>\n",
              "      <td>India</td>\n",
              "      <td>2016-08-28</td>\n",
              "      <td>Airport/Rlwy Stn Transfer|Bar|Conference Hall|...</td>\n",
              "      <td>Location Hotel Royal Garden is situated on Juh...</td>\n",
              "      <td>3</td>\n",
              "      <td>NaN</td>\n",
              "      <td>Electronic Safe|Bathroom Toiletries|Daily News...</td>\n",
              "      <td>False</td>\n",
              "      <td>19.091400</td>\n",
              "      <td>72.827976</td>\n",
              "      <td>NaN</td>\n",
              "      <td>Location:4.5</td>\n",
              "      <td>170.0</td>\n",
              "      <td>Excellent:55|Very Good:23|Average:44|Poor:37|T...</td>\n",
              "      <td>3.6</td>\n",
              "      <td>Family:51|Couple:38|Solo:44|Friends:7|Business:12</td>\n",
              "      <td>72.0</td>\n",
              "      <td>NaN</td>\n",
              "      <td>Juhu Tara Road,Juhu, Near Juhu Beach,Western S...</td>\n",
              "      <td>201101101624406782</td>\n",
              "      <td>Hotel Royal Garden</td>\n",
              "      <td>Hotel</td>\n",
              "      <td>2016-08-28 16:13:39 +0000</td>\n",
              "      <td>2016-08-28 16:13:39 +0000</td>\n",
              "      <td>Superior Executive</td>\n",
              "      <td>NaN</td>\n",
              "      <td>NaN</td>\n",
              "      <td>makemytrip</td>\n",
              "      <td>Maharashtra</td>\n",
              "      <td>Location:4.5/5 | Hospitality:3.4/5 | Facilitie...</td>\n",
              "      <td>a1ced509350038775a7700ec67796bc2</td>\n",
              "      <td>POINT(72.827976 19.0914)</td>\n",
              "    </tr>\n",
              "    <tr>\n",
              "      <th>334</th>\n",
              "      <td>Andheri (East)</td>\n",
              "      <td>Mumbai</td>\n",
              "      <td>India</td>\n",
              "      <td>2016-08-28</td>\n",
              "      <td>24 Hour Check in-Icon|24 hour reception|24 hou...</td>\n",
              "      <td>City Guest House is a beautiful property locat...</td>\n",
              "      <td>2</td>\n",
              "      <td>NaN</td>\n",
              "      <td>Bathroom Toiletries|Hot/cold Water|Attached Ba...</td>\n",
              "      <td>False</td>\n",
              "      <td>19.016200</td>\n",
              "      <td>72.843100</td>\n",
              "      <td>NaN</td>\n",
              "      <td>Location:4.3</td>\n",
              "      <td>42.0</td>\n",
              "      <td>Excellent:19|Very Good:5|Average:4|Poor:14|Ter...</td>\n",
              "      <td>3.8</td>\n",
              "      <td>Family:18|Couple:11|Solo:10|Friends:0|Business:0</td>\n",
              "      <td>5.0</td>\n",
              "      <td>NaN</td>\n",
              "      <td>3, Framroz Court, 1st Floor,dadasaheb phalke r...</td>\n",
              "      <td>201508171552242376</td>\n",
              "      <td>City Guest House</td>\n",
              "      <td>Hotel</td>\n",
              "      <td>2016-08-28 16:13:39 +0000</td>\n",
              "      <td>2016-08-28 16:13:39 +0000</td>\n",
              "      <td>Standard Room|Deluxe Room|Triple Deluxe Room|S...</td>\n",
              "      <td>NaN</td>\n",
              "      <td>NaN</td>\n",
              "      <td>makemytrip</td>\n",
              "      <td>Maharashtra</td>\n",
              "      <td>Location:4.3/5 | Hospitality:3.8/5 | Facilitie...</td>\n",
              "      <td>f2820ae7707668ed6906bb227921f720</td>\n",
              "      <td>POINT(72.8431 19.0162)</td>\n",
              "    </tr>\n",
              "    <tr>\n",
              "      <th>1238</th>\n",
              "      <td>Andheri (East)</td>\n",
              "      <td>Mumbai</td>\n",
              "      <td>NaN</td>\n",
              "      <td>2016-08-22</td>\n",
              "      <td>24 Hour Check in-Icon|24 hour reception|24 hou...</td>\n",
              "      <td>Sai Residency Hotel is situated in the City of...</td>\n",
              "      <td>2</td>\n",
              "      <td>NaN</td>\n",
              "      <td>Bathroom Toiletries|Attached Bathroom|Hot &amp; Co...</td>\n",
              "      <td>False</td>\n",
              "      <td>19.109194</td>\n",
              "      <td>72.871042</td>\n",
              "      <td>NaN</td>\n",
              "      <td>NaN</td>\n",
              "      <td>NaN</td>\n",
              "      <td>NaN</td>\n",
              "      <td>NaN</td>\n",
              "      <td>NaN</td>\n",
              "      <td>NaN</td>\n",
              "      <td>NaN</td>\n",
              "      <td>marol pipe line ,opp mukund hospital next to s...</td>\n",
              "      <td>201603281410379322</td>\n",
              "      <td>SaiResidency Hotel</td>\n",
              "      <td>Hotel</td>\n",
              "      <td>2016-08-22 22:10:53 +0000</td>\n",
              "      <td>2016-08-22 22:10:53 +0000</td>\n",
              "      <td>Deluxe Dbl Air Cooled</td>\n",
              "      <td>NaN</td>\n",
              "      <td>NaN</td>\n",
              "      <td>makemytrip</td>\n",
              "      <td>MAHARASHTRA</td>\n",
              "      <td>NaN</td>\n",
              "      <td>b4af24952027ffbcd85a91bb6fe23f5d</td>\n",
              "      <td>POINT(72.87104239999996 19.1091936)</td>\n",
              "    </tr>\n",
              "  </tbody>\n",
              "</table>\n",
              "</div>"
            ],
            "text/plain": [
              "                area  ...                             location\n",
              "294           Charai  ...           POINT(72.974173 19.198414)\n",
              "309   Andheri (East)  ...           POINT(72.882023 19.117263)\n",
              "321             Khar  ...             POINT(72.827976 19.0914)\n",
              "334   Andheri (East)  ...               POINT(72.8431 19.0162)\n",
              "1238  Andheri (East)  ...  POINT(72.87104239999996 19.1091936)\n",
              "\n",
              "[5 rows x 34 columns]"
            ]
          },
          "metadata": {
            "tags": []
          },
          "execution_count": 13
        }
      ]
    },
    {
      "cell_type": "markdown",
      "metadata": {
        "id": "H9foAjQ3iJhe"
      },
      "source": [
        "Since we are interested in generating hotel description we will only keep the hotel overview column, since other columns will not be required for our analysis\n",
        "\n",
        "Also let us remove all the descriptions that are empty"
      ]
    },
    {
      "cell_type": "code",
      "metadata": {
        "id": "adoQHkrLiE4C"
      },
      "source": [
        "data_mum = data_mum.hotel_overview\n",
        "data_mum = data_mum.dropna()"
      ],
      "execution_count": 14,
      "outputs": []
    },
    {
      "cell_type": "code",
      "metadata": {
        "colab": {
          "base_uri": "https://localhost:8080/"
        },
        "id": "wHIkIwgMiyWg",
        "outputId": "429e1d3c-f1e0-40ec-c7fe-d9695dadb7a3"
      },
      "source": [
        "data_mum.head() # we have series of reviwes about Mumbai hotels"
      ],
      "execution_count": 15,
      "outputs": [
        {
          "output_type": "execute_result",
          "data": {
            "text/plain": [
              "294     Nestled in Mumbai, a city with strong historic...\n",
              "309     3 km from Chhatrapati Shivaji International Ai...\n",
              "321     Location Hotel Royal Garden is situated on Juh...\n",
              "334     City Guest House is a beautiful property locat...\n",
              "1238    Sai Residency Hotel is situated in the City of...\n",
              "Name: hotel_overview, dtype: object"
            ]
          },
          "metadata": {
            "tags": []
          },
          "execution_count": 15
        }
      ]
    },
    {
      "cell_type": "markdown",
      "metadata": {
        "id": "g-hLjU7Ei8XM"
      },
      "source": [
        "### Pre-Process the data"
      ]
    },
    {
      "cell_type": "code",
      "metadata": {
        "id": "du_aU99Li0Yj"
      },
      "source": [
        "# perfrom case-folding (converting to lowercase, stopword removal, keeping only alphabetic data), Also discard single character word"
      ],
      "execution_count": 16,
      "outputs": []
    },
    {
      "cell_type": "code",
      "metadata": {
        "id": "AutrfsH_jcop"
      },
      "source": [
        "stop = set(stopwords.words('english'))\n",
        "\n",
        "def stopword_removal(data_point):\n",
        "  data= [x for x in data_point.split() if x not in stop]\n",
        "  return data\n"
      ],
      "execution_count": 17,
      "outputs": []
    },
    {
      "cell_type": "code",
      "metadata": {
        "colab": {
          "base_uri": "https://localhost:8080/"
        },
        "id": "S0lfVJaykj1a",
        "outputId": "44a81b03-e53d-4702-f7ff-44740c00e7aa"
      },
      "source": [
        "ex = 'Nestled in Mumbai, a city with strong historic'\n",
        "ex = stopword_removal(ex)\n",
        "print(ex)"
      ],
      "execution_count": 18,
      "outputs": [
        {
          "output_type": "stream",
          "text": [
            "['Nestled', 'Mumbai,', 'city', 'strong', 'historic']\n"
          ],
          "name": "stdout"
        }
      ]
    },
    {
      "cell_type": "code",
      "metadata": {
        "id": "2rTaD_18j4sd"
      },
      "source": [
        "# method for overall data cleansing"
      ],
      "execution_count": 19,
      "outputs": []
    },
    {
      "cell_type": "markdown",
      "metadata": {
        "id": "Ad6gfDw2k1Rz"
      },
      "source": [
        ""
      ]
    },
    {
      "cell_type": "code",
      "metadata": {
        "id": "zu4QU2-KkF_q"
      },
      "source": [
        "def clean_data(data): \n",
        "  '''works for single sentence and returns cleaned tokens of words in the sentence along with unique_words'''\n",
        "  cleaned_data =[]\n",
        "  all_unique_words_in_each_description=[]\n",
        "  for entry in data:\n",
        "    entry = re.sub(pattern='[^a-zA-Z]',repl=\" \", string=entry) # check if alphabet, remove non-alphabet\n",
        "    entry = re.sub(r'\\b\\w{0,1}\\b', repl=\" \", string=entry)  # remove single word or blank character/word\n",
        "    entry =entry.lower()\n",
        "    entry = stopword_removal(entry)\n",
        "    cleaned_data.append(entry) # list with in list 0(1) time-complexity\n",
        "    unique = list(set(entry))\n",
        "    all_unique_words_in_each_description.extend(unique) # appended list O(K) time-complexity, k- lenght of list need to be added\n",
        "  return cleaned_data,all_unique_words_in_each_description"
      ],
      "execution_count": 20,
      "outputs": []
    },
    {
      "cell_type": "code",
      "metadata": {
        "id": "HYaOsH3hmhpL"
      },
      "source": [
        "# function to make vocabulary\n",
        "\n",
        "def unique_words(data):\n",
        "  unique_words = set(data)\n",
        "  return unique_words, len(unique_words)"
      ],
      "execution_count": 21,
      "outputs": []
    },
    {
      "cell_type": "markdown",
      "metadata": {
        "id": "YwYC4B86nkza"
      },
      "source": [
        "#### Applying data cleaning to our df_mum"
      ]
    },
    {
      "cell_type": "code",
      "metadata": {
        "id": "wWqC7MVqnYOn"
      },
      "source": [
        "cleaned_data, all_unique_words_in_each_description = clean_data(data_mum)"
      ],
      "execution_count": 22,
      "outputs": []
    },
    {
      "cell_type": "code",
      "metadata": {
        "id": "WkrDgRjpnzhi"
      },
      "source": [
        "unique_words, len_unique_words = unique_words(all_unique_words_in_each_description)"
      ],
      "execution_count": 23,
      "outputs": []
    },
    {
      "cell_type": "code",
      "metadata": {
        "colab": {
          "base_uri": "https://localhost:8080/"
        },
        "id": "Tgn8uC9xn-8x",
        "outputId": "514cb3d3-5263-4c8f-d915-cb0420f267d6"
      },
      "source": [
        "len_unique_words  # this is our vocab_size"
      ],
      "execution_count": 24,
      "outputs": [
        {
          "output_type": "execute_result",
          "data": {
            "text/plain": [
              "3395"
            ]
          },
          "metadata": {
            "tags": []
          },
          "execution_count": 24
        }
      ]
    },
    {
      "cell_type": "code",
      "metadata": {
        "colab": {
          "base_uri": "https://localhost:8080/"
        },
        "id": "9TnhmqtCoA85",
        "outputId": "3582c1a5-e87b-4be5-d195-127307c7fef6"
      },
      "source": [
        "## peeking at one of the cleaned data\n",
        "\n",
        "len(cleaned_data[0])"
      ],
      "execution_count": 25,
      "outputs": [
        {
          "output_type": "execute_result",
          "data": {
            "text/plain": [
              "136"
            ]
          },
          "metadata": {
            "tags": []
          },
          "execution_count": 25
        }
      ]
    },
    {
      "cell_type": "markdown",
      "metadata": {
        "id": "puXZBydvoXii"
      },
      "source": [
        "### Build Mapping for Words\n",
        "\n",
        "### word --> index and index --> word"
      ]
    },
    {
      "cell_type": "code",
      "metadata": {
        "id": "xpAFDEZZoMIA"
      },
      "source": [
        "def build_indices(unique_words):\n",
        "  word_to_index = {}\n",
        "  index_to_word = {}\n",
        "  for i,word in enumerate(unique_words):\n",
        "    word_to_index[word]=i\n",
        "    index_to_word[i]=word\n",
        "  return word_to_index, index_to_word"
      ],
      "execution_count": 26,
      "outputs": []
    },
    {
      "cell_type": "code",
      "metadata": {
        "id": "rMN8tXX-qBMn"
      },
      "source": [
        "word_to_index, index_to_word = build_indices(unique_words)"
      ],
      "execution_count": 27,
      "outputs": []
    },
    {
      "cell_type": "markdown",
      "metadata": {
        "id": "ugN1B7QBrQzF"
      },
      "source": [
        "### Prepare Training Corpus"
      ]
    },
    {
      "cell_type": "code",
      "metadata": {
        "id": "LoegVaVZqI-T"
      },
      "source": [
        "def prepare_corpus(corpus,word_to_index):\n",
        "  sequences= []\n",
        "  for line in corpus:\n",
        "    tokens = line\n",
        "    for i in range(1, len(tokens)):\n",
        "      i_gram_sequence = tokens[:i+1]\n",
        "      i_gram_sequence_ids = []\n",
        "\n",
        "      for j,token in enumerate(i_gram_sequence):\n",
        "        i_gram_sequence_ids.append(word_to_index[token])\n",
        "      sequences.append(i_gram_sequence_ids)\n",
        "  return sequences"
      ],
      "execution_count": 28,
      "outputs": []
    },
    {
      "cell_type": "code",
      "metadata": {
        "id": "cicFYDw3seQ4"
      },
      "source": [
        "sequences=prepare_corpus(cleaned_data,word_to_index)\n",
        "max_sequence_len = max([len(x) for x in sequences]) # find sentence with maximum length"
      ],
      "execution_count": 29,
      "outputs": []
    },
    {
      "cell_type": "code",
      "metadata": {
        "colab": {
          "base_uri": "https://localhost:8080/"
        },
        "id": "HNqQTef1vNzn",
        "outputId": "9108687f-fd5e-41c4-f481-40a27e39d844"
      },
      "source": [
        "len(sequences) # our sequences contains 51836 list with colleciton of n-grams for each sentence staritng from length 2"
      ],
      "execution_count": 30,
      "outputs": [
        {
          "output_type": "execute_result",
          "data": {
            "text/plain": [
              "51836"
            ]
          },
          "metadata": {
            "tags": []
          },
          "execution_count": 30
        }
      ]
    },
    {
      "cell_type": "code",
      "metadata": {
        "colab": {
          "base_uri": "https://localhost:8080/"
        },
        "id": "pazH3CERtHrY",
        "outputId": "fbf45357-2a44-456a-e723-cef88a3bd703"
      },
      "source": [
        "max_sequence_len # so the max len of sentece after cleaning and tokenizing is 308"
      ],
      "execution_count": 31,
      "outputs": [
        {
          "output_type": "execute_result",
          "data": {
            "text/plain": [
              "308"
            ]
          },
          "metadata": {
            "tags": []
          },
          "execution_count": 31
        }
      ]
    },
    {
      "cell_type": "code",
      "metadata": {
        "colab": {
          "base_uri": "https://localhost:8080/"
        },
        "id": "MooFXegNtToK",
        "outputId": "1c53bbca-ddf3-4fa3-abf5-18577d85dee3"
      },
      "source": [
        "sequences[0] # looking at the first sentence and its i-gram indices (first sentence with 2 words indexes)"
      ],
      "execution_count": 32,
      "outputs": [
        {
          "output_type": "execute_result",
          "data": {
            "text/plain": [
              "[285, 2838]"
            ]
          },
          "metadata": {
            "tags": []
          },
          "execution_count": 32
        }
      ]
    },
    {
      "cell_type": "code",
      "metadata": {
        "colab": {
          "base_uri": "https://localhost:8080/"
        },
        "id": "WyqL8AjItfu6",
        "outputId": "71b0d558-0627-4fff-8017-ae8bc7cf1a5c"
      },
      "source": [
        "sequences[1]"
      ],
      "execution_count": 33,
      "outputs": [
        {
          "output_type": "execute_result",
          "data": {
            "text/plain": [
              "[285, 2838, 474]"
            ]
          },
          "metadata": {
            "tags": []
          },
          "execution_count": 33
        }
      ]
    },
    {
      "cell_type": "code",
      "metadata": {
        "colab": {
          "base_uri": "https://localhost:8080/"
        },
        "id": "8n_gucuDuww-",
        "outputId": "37bed676-a88f-4d8a-e7df-54c290a72908"
      },
      "source": [
        "# let us see which words are mapped to these indices\n",
        "\n",
        "print(index_to_word[3125])\n",
        "print(index_to_word[66])\n",
        "print(index_to_word[1864])"
      ],
      "execution_count": 34,
      "outputs": [
        {
          "output_type": "stream",
          "text": [
            "delved\n",
            "delicacies\n",
            "around\n"
          ],
          "name": "stdout"
        }
      ]
    },
    {
      "cell_type": "code",
      "metadata": {
        "id": "EUgOBkiiu8BQ"
      },
      "source": [
        "# Finally, we have correctly build our sequences"
      ],
      "execution_count": 35,
      "outputs": []
    },
    {
      "cell_type": "code",
      "metadata": {
        "id": "0td7B0nLvWye"
      },
      "source": [
        "## Preparing the data for trainng the model\n",
        "# we should pad the input to the longest words in the sequences 308 in this case\n",
        "# also we need to split the data into dependent and independent variable"
      ],
      "execution_count": 36,
      "outputs": []
    },
    {
      "cell_type": "code",
      "metadata": {
        "id": "ZgYQsIOKy77j"
      },
      "source": [
        "def build_input_data(sequences,max_sequence_len, len_unique_words):\n",
        "  sequences = np.array(pad_sequences(sequences,maxlen=max_sequence_len, padding='pre'))\n",
        "  X = sequences[:,:-1]\n",
        "  y = sequences[:,-1]\n",
        "  y = np_utils.to_categorical(y,len_unique_words) # convert correspoding row index to 1, and len of each word is vector of length len_unique_words\n",
        "  return X,y\n"
      ],
      "execution_count": 37,
      "outputs": []
    },
    {
      "cell_type": "code",
      "metadata": {
        "id": "0x9jc72SzQjq"
      },
      "source": [
        "X,y = build_input_data(sequences,max_sequence_len,len_unique_words)"
      ],
      "execution_count": 38,
      "outputs": []
    },
    {
      "cell_type": "markdown",
      "metadata": {
        "id": "OszpQc7-1l1d"
      },
      "source": [
        "### Building The model"
      ]
    },
    {
      "cell_type": "markdown",
      "metadata": {
        "id": "W2gA9L_q36z1"
      },
      "source": [
        "input_dim: This is the size of the vocabulary in the text data. For example, if your data is integer encoded to values between 0-10, then the size of the vocabulary would be 11 words.\n",
        "output_dim: This is the size of the vector space in which words will be embedded. It defines the size of the output vectors from this layer for each word. For example, it could be 32 or 100 or even larger. Test different values for your problem.\n",
        "input_length: This is the length of input sequences, as you would define for any input layer of a Keras model. For example, if all of your input documents are comprised of 1000 words, this would be 1000."
      ]
    },
    {
      "cell_type": "code",
      "metadata": {
        "id": "XGf55zC-36TT"
      },
      "source": [
        "# 10 indicates that we want a Dense embedding of size 10 as output from our model.\n",
        "# 128 LSTM units in the hidden layer, dimensionality of the inner cells in the LSTM layer.\n",
        "# randomly drop off 20% of neurons from the network using the Dropout layer.\n",
        "#  multi-class classification problem, and so the softmax activation function is used."
      ],
      "execution_count": 39,
      "outputs": []
    },
    {
      "cell_type": "code",
      "metadata": {
        "id": "XcCxvCw5zRgw"
      },
      "source": [
        "def create_model(max_sequence_len, len_unique_words):\n",
        "  model = Sequential()\n",
        "  model.add(Embedding(len_unique_words,10,input_length=max_sequence_len-1))\n",
        "  model.add(LSTM(128))\n",
        "  model.add(Dropout(0.2))\n",
        "  model.add(Dense(len_unique_words, activation='softmax'))\n",
        "  model.compile(loss='categorical_crossentropy',optimizer='adam')\n",
        "  return model\n"
      ],
      "execution_count": 40,
      "outputs": []
    },
    {
      "cell_type": "code",
      "metadata": {
        "colab": {
          "base_uri": "https://localhost:8080/"
        },
        "id": "kf36OT1Y4zgI",
        "outputId": "da69c11a-0d3d-4136-8599-a0fd44b81af0"
      },
      "source": [
        "model = create_model(max_sequence_len, len_unique_words)\n",
        "model.summary()"
      ],
      "execution_count": 41,
      "outputs": [
        {
          "output_type": "stream",
          "text": [
            "Model: \"sequential\"\n",
            "_________________________________________________________________\n",
            "Layer (type)                 Output Shape              Param #   \n",
            "=================================================================\n",
            "embedding (Embedding)        (None, 307, 10)           33950     \n",
            "_________________________________________________________________\n",
            "lstm (LSTM)                  (None, 128)               71168     \n",
            "_________________________________________________________________\n",
            "dropout (Dropout)            (None, 128)               0         \n",
            "_________________________________________________________________\n",
            "dense (Dense)                (None, 3395)              437955    \n",
            "=================================================================\n",
            "Total params: 543,073\n",
            "Trainable params: 543,073\n",
            "Non-trainable params: 0\n",
            "_________________________________________________________________\n"
          ],
          "name": "stdout"
        }
      ]
    },
    {
      "cell_type": "code",
      "metadata": {
        "id": "Z7caOX1Z46pp"
      },
      "source": [
        "model.fit(X,y,batch_size=512, epochs=100)"
      ],
      "execution_count": null,
      "outputs": []
    },
    {
      "cell_type": "markdown",
      "metadata": {
        "id": "R-hX9QE2E7cl"
      },
      "source": [
        "### Testing and Text Generation"
      ]
    },
    {
      "cell_type": "code",
      "metadata": {
        "id": "JgQBIw0u5zkx"
      },
      "source": [
        "def generate_text(seed_text, next_words, model, max_seq_len):\n",
        "  for _ in range(next_words):\n",
        "    cleaned_data = clean_data([seed_text])\n",
        "    sequences = prepare_corpus(cleaned_data[0],word_to_index)\n",
        "    sequences = pad_sequences([sequences[-1]],maxlen=max_seq_len-1,padding='pre')\n",
        "    predicted = model.predict_classes(sequences, verbose=0)\n",
        "    output_word=''\n",
        "    output_word = index_to_word[predicted[0]]\n",
        "    seed_text = seed_text+\" \"+output_word\n",
        "  return seed_text.title()"
      ],
      "execution_count": 43,
      "outputs": []
    },
    {
      "cell_type": "code",
      "metadata": {
        "colab": {
          "base_uri": "https://localhost:8080/"
        },
        "id": "Ydk04I-mFAHp",
        "outputId": "3da15f5b-f022-4325-bcab-b5d717c46d55"
      },
      "source": [
        "print(generate_text(\"mumbai is a city of beautiful\",20,model,max_sequence_len))\n"
      ],
      "execution_count": 44,
      "outputs": [
        {
          "output_type": "stream",
          "text": [
            "/usr/local/lib/python3.7/dist-packages/tensorflow/python/keras/engine/sequential.py:450: UserWarning: `model.predict_classes()` is deprecated and will be removed after 2021-01-01. Please use instead:* `np.argmax(model.predict(x), axis=-1)`,   if your model does multi-class classification   (e.g. if it uses a `softmax` last-layer activation).* `(model.predict(x) > 0.5).astype(\"int32\")`,   if your model does binary classification   (e.g. if it uses a `sigmoid` last-layer activation).\n",
            "  warnings.warn('`model.predict_classes()` is deprecated and '\n"
          ],
          "name": "stderr"
        },
        {
          "output_type": "stream",
          "text": [
            "Mumbai Is A City Of Beautiful Residency Located Distance Km Chhatrapati Shivaji International Airport Km Chhatrapati Shivaji International Airport Km Chhatrapati Shivaji International Airport Km Chhatrapati\n"
          ],
          "name": "stdout"
        }
      ]
    },
    {
      "cell_type": "markdown",
      "metadata": {
        "id": "hrPmByolHOCG"
      },
      "source": [
        "Hyperparameter tuning, along with building more complex and larger models, can help in generating better results."
      ]
    },
    {
      "cell_type": "code",
      "metadata": {
        "id": "Q9KuamPvHCZ7"
      },
      "source": [
        ""
      ],
      "execution_count": null,
      "outputs": []
    }
  ]
}